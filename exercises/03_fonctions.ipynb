{
 "cells": [
  {
   "cell_type": "markdown",
   "metadata": {},
   "source": [
    "# Instructions Générales\n",
    "\n",
    "Ce TD est à faire en créant un fichier td3.py, que vous éditerez dans VSCode. \n",
    "Vous ne remplirez pas les cellules de ce notebook, mais vous les copierez au fur et à mesure \n",
    "dans votre fichier pour les compléter.\n",
    "\n",
    "Vous respecterez au mieux les règles d'écriture de code, en particulier chaque fonction devra avoir un **docstring** et des commentaires si nécessaire et les noms de variable seront illustratifs de leur usage. Vous utiliserez les outils de débogage (flake8, mypy, debugger, pythontutor ...) pour corriger vos bogues."
   ]
  },
  {
   "cell_type": "markdown",
   "metadata": {},
   "source": [
    "# Gestion du temps\n",
    "\n",
    "Nous allons créer un petit logiciel de gestion du temps et des dates.\n",
    "Pour cela nous aurons besoin de créer un certain nombre de fonctions utilitaires.\n",
    "\n",
    "Un temps a le format suivant: (jour: int, heure: int, minute: int, seconde: int).\n",
    "C'est un tuple de 4 éléments. Par exemple (4,3,13,20) correspond à 4 jours, 3 heures, 13 minutes et 20 secondes.\n",
    "Si on une variable temps = (4,3,13,20), pour accéder au premier élément on fait temps\\[0\\] ce qui donne 4,\n",
    "le nombre de jours.\n",
    "\n",
    "Créer la fonction qui prend comme argument le temps et renvoie le nombre de seconde total correspondant à ce temps.\n",
    "Créer la fonction qui prend un nombre de secondes et renvoie le temps correspondante."
   ]
  },
  {
   "cell_type": "code",
   "execution_count": 2,
   "metadata": {},
   "outputs": [
    {
     "output_type": "stream",
     "name": "stdout",
     "text": [
      "<class 'tuple'>\n342094\n1 jours 3 heures 46 minutes 40 secondes\n"
     ]
    }
   ],
   "source": [
    "#temps[0] : jours, temps[1]: minutes, temps[2]: minutes, temps[3]: secondes\n",
    "\n",
    "def tempsEnSeconde(temps):\n",
    "    \"\"\" Renvoie la valeur en seconde de temps donné comme jour, heure, minute, seconde.\"\"\"\n",
    "    jts = temps[0] * 86400\n",
    "    hts = temps[1] * 3600\n",
    "    mts = temps[2] * 60\n",
    "    return jts + hts + mts + temps[3]\n",
    "\n",
    "temps = (3,23,1,34)\n",
    "print(type(temps))\n",
    "print(tempsEnSeconde(temps))\n",
    "\n",
    "def secondeEnTemps(seconde):\n",
    "    \"\"\"Renvoie le temps (jour, heure, minute, seconde) passé en argument\"\"\"\n",
    "    stj = seconde // 84600\n",
    "    sth = seconde // 3600 % 24\n",
    "    stm = seconde // 60 % 60\n",
    "    return stj, sth, stm, seconde%60\n",
    "\n",
    "temps = secondeEnTemps(100000)\n",
    "print(temps[0],\"jours\",temps[1],\"heures\",temps[2],\"minutes\",temps[3],\"secondes\")\n"
   ]
  },
  {
   "cell_type": "markdown",
   "metadata": {},
   "source": [
    "Créer un fonction d'affichage d'un temps `afficheTemps`. Attention, les mots jour, heure et seconde doivent être au pluriel s'il y en a plusieurs. S'il y en a zéro, ils ne doivent pas apparaître.\n",
    "`print(message, end=\"\")` permet de ne pas sauter une ligne après un print. \n",
    "Vous pouvez écrire une fonction qui affiche un mot au pluriel ou non, appelée ensuite plusieurs fois par `afficheTemps` pour simplifier votre code.\n"
   ]
  },
  {
   "cell_type": "code",
   "execution_count": 3,
   "metadata": {},
   "outputs": [
    {
     "output_type": "stream",
     "name": "stdout",
     "text": [
      "un jour , 14minutes, 23secondes\n"
     ]
    }
   ],
   "source": [
    "#fonction auxiliaire ici\n",
    "\n",
    "def strJour(temps):\n",
    "    if temps[0] == 0 :\n",
    "        return \" \"\n",
    "    elif temps[0] == 1:\n",
    "        return \"un jour\"\n",
    "    else:\n",
    "        return str(temps[0]) + \"jours\" \n",
    "\n",
    "def strHeure(temps):\n",
    "    if temps[1] == 0 :\n",
    "         return \" \"\n",
    "    elif temps [1] == 1:\n",
    "         return \", une heure\" \n",
    "    else:\n",
    "         return\", \" + str(temps[1]) + \"heures\"\n",
    "\n",
    "def strminute(temps):\n",
    "    if temps[2] == 0 :\n",
    "         return \" \"\n",
    "    elif temps[2] == 1:\n",
    "         return \", une minute\"\n",
    "    else:\n",
    "         return \", \" + str(temps[2]) + \"minutes\"\n",
    "\n",
    "def strseconde(temps):\n",
    "    if temps[3] == 0 :\n",
    "        return \" \"\n",
    "    elif temps[3] == 1:\n",
    "        return \", une seconde \"\n",
    "    else:\n",
    "        return \", \" + str(temps[3]) + \"secondes\"\n",
    "\n",
    "\n",
    "def afficheTemps(temps):\n",
    "    print(strJour(temps) + strHeure(temps) + strminute(temps) + strseconde(temps))\n",
    "\n",
    "afficheTemps((1,0,14,23))\n",
    "        \n",
    "\n",
    "    \n",
    "\n",
    "\n",
    "    \n",
    "\n",
    "        \n"
   ]
  },
  {
   "cell_type": "markdown",
   "metadata": {},
   "source": [
    "Ecrire une fonction qui demande à l'utilisateur de rentrer un nombre de jours, d'heures, de minutes et\n",
    "de secondes et qui renvoie un temps. Attention, si l'entrée utilisateur n'est pas correcte, par exemple 80 minutes,\n",
    "afficher un message d'erreur et s'arrêter.\n",
    "\n",
    "(Optionnel) Au lieu d'arêter le programme, demander de rentrer une nouvelle valeur, tant que \n",
    "ce n'est pas une valeur correcte."
   ]
  },
  {
   "cell_type": "code",
   "execution_count": 4,
   "metadata": {},
   "outputs": [
    {
     "output_type": "stream",
     "name": "stdout",
     "text": [
      "3jours, 2heures, 5minutes, 9secondes\n"
     ]
    }
   ],
   "source": [
    "def demandeTemps():\n",
    "    day = int(input(\"definir un nombre de jours\"))\n",
    "    hour = int(input(\"définir un nombre d'heures\"))\n",
    "    minute = int(input(\"définir un nombre de minutes\"))\n",
    "    seconde = int(input(\"définir un nombre de secondes\"))\n",
    "\n",
    "    while(day< 0):\n",
    "        day = int(input(\"le nombre de jours défini est incorrecte, redéfinir un nombre de jours\"))\n",
    "    \n",
    "    while(hour < 0 or hour >= 24):\n",
    "        hour = int(input(\" l'heure' définie est incorrecte, redéfinir un nombre d'heures \"))\n",
    "    \n",
    "    while(minute < 0 or minute >= 60):\n",
    "        minute = int(input(\"les minutes définies sont incorrectes, redéfinir un nombre de minutes\"))\n",
    "    \n",
    "    while(seconde < 0 or seconde >=60):\n",
    "        seconde = int(input(\" les secondes définies sont incorrectes, redéfinir un nombre de secondes\"))\n",
    "    return(day,hour,minute,seconde)\n",
    "\n",
    "\n",
    "afficheTemps(demandeTemps())\n",
    "\n",
    "    "
   ]
  },
  {
   "cell_type": "markdown",
   "metadata": {},
   "source": [
    "On veut être capable d'additionner deux temps. Donner une fonction qui fait ce calcul,\n",
    "en utilisant les fonctions précédentes."
   ]
  },
  {
   "cell_type": "code",
   "execution_count": 5,
   "metadata": {},
   "outputs": [
    {
     "output_type": "stream",
     "name": "stdout",
     "text": [
      "8jours, 2heures, une minute, 26secondes\n"
     ]
    }
   ],
   "source": [
    "def sommeTemps(temps1,temps2):\n",
    "    res = [0,0,0,0]\n",
    "    for i in range(0, 4):\n",
    "        res[i] = temps1[i] + temps2[i]\n",
    "\n",
    "    if(res[3] >= 60):\n",
    "        res[2] += res[3]//60\n",
    "        res[3] %= 60\n",
    "    if(res[2]   >= 60):\n",
    "        res[1] += res[2]//60\n",
    "        res[2] %= 60\n",
    "    if(res[1] >=  24):\n",
    "        res[0] += res[1]//24\n",
    "        res[1] %= 24\n",
    "    return res\n",
    "afficheTemps(sommeTemps((2,3,4,25),(5,22,57,1)))"
   ]
  },
  {
   "cell_type": "markdown",
   "metadata": {},
   "source": [
    "On veut maintenant calculer un pourcentage d'un temps. Par exemple, 20% de\n",
    "2 jours et 36 minutes correspond à 9 heures, 43 minutes et 12 secondes.\n",
    "\n",
    "Implémenter la fonction `proportionTemps` puis appeler cette fonction en échangeant l'ordre des arguments mais en les nommant."
   ]
  },
  {
   "cell_type": "code",
   "execution_count": 6,
   "metadata": {},
   "outputs": [
    {
     "output_type": "stream",
     "name": "stdout",
     "text": [
      " , 9.0heures, 43.0minutes, 12.0secondes\n"
     ]
    }
   ],
   "source": [
    "def proportionTemps(temps,proportion):\n",
    "   second = tempsEnSeconde(temps)\n",
    "   second = second * proportion\n",
    "   return secondeEnTemps(second)\n",
    "\n",
    "afficheTemps(proportionTemps((2,0,36,0),0.2))\n",
    "#appeler la fonction en échangeant l'ordre des arguments"
   ]
  },
  {
   "cell_type": "markdown",
   "metadata": {},
   "source": [
    "On veut maintenant afficher un temps sous forme de date, en supposant \n",
    "que le temps 0 est le 1 janvier 1970 à 00:00:00.\n",
    "\n",
    "* Implémenter une fonction `tempsEnDate`qui donne la date sous la forme (année, jour, heure, minute, seconde).\n",
    "* Implémenter la fonction `afficheDate`qui affiche la date. \n",
    "* (Optionnel) Gérer également les mois."
   ]
  },
  {
   "cell_type": "code",
   "execution_count": 8,
   "metadata": {},
   "outputs": [
    {
     "output_type": "error",
     "ename": "SyntaxError",
     "evalue": "invalid syntax (<ipython-input-8-f45545f4274a>, line 22)",
     "traceback": [
      "\u001b[1;36m  File \u001b[1;32m\"<ipython-input-8-f45545f4274a>\"\u001b[1;36m, line \u001b[1;32m22\u001b[0m\n\u001b[1;33m    afficheTemps((date[2], date[3, date[4], date[5]]))\u001b[0m\n\u001b[1;37m    ^\u001b[0m\n\u001b[1;31mSyntaxError\u001b[0m\u001b[1;31m:\u001b[0m invalid syntax\n"
     ]
    }
   ],
   "source": [
    "def tempsEnDate(temps):\n",
    "    return (1970 + temps[0]//360,\n",
    "            temps[0]%360//30,\n",
    "            temps[0]%30,\n",
    "            temps[1],\n",
    "            temps[2],\n",
    "            temps[3])\n",
    "\n",
    "def afficheDate(date = -1):\n",
    "    if(date == -1):\n",
    "        pass\n",
    "        return\n",
    "    def strMonth(date):\n",
    "        if date[1] == 0 :\n",
    "            return \"\"\n",
    "        elif date[1] == 1 :\n",
    "            return \", un mois\"\n",
    "        else:\n",
    "            return \"année \" + str(date[0])\n",
    "\n",
    "    print(str((date + dtrMonth(date)))\n",
    "    AfficheTemps((date[2], date[3, date[4], date[5]]))\n",
    "    \n",
    "temps = secondeEnTemps(1000000000)\n",
    "afficheTemps(temps)\n",
    "afficheDate(tempsEnDate(temps))\n",
    "afficheDate()"
   ]
  },
  {
   "cell_type": "markdown",
   "metadata": {},
   "source": [
    "Il existe des fonctions dans la librairie `time` pour la gestion du temps. En particulier, il existe\n",
    "une fonction `time` qui donne le temps écoulé depuis 1970 en secondes. \n",
    "La trouver avec la [documentation python](https://docs.python.org/fr/3/library/time.html#module-time) et la tester en utilisant `afficheDate`. \n",
    "Tester de la même manière la fonction `time.gmtime` qui réalise une tâche similaire à `tempsEnDate`.\n",
    "Que constatez vous ?"
   ]
  },
  {
   "cell_type": "code",
   "execution_count": null,
   "metadata": {},
   "outputs": [],
   "source": [
    "#tester ici les fonctions de la librairie time"
   ]
  },
  {
   "cell_type": "markdown",
   "metadata": {},
   "source": [
    "Attention, tous les 4 ans les années sont bisextiles (un jour de plus) sauf les multiples de 100 qui ne sont pas des multiples de 400.\n",
    "Donner un code qui prend un nombre de jours et affiche toutes les années bisextiles depuis 1 janvier 2020 à 00:00:00 jusqu'à la fin de ces jours."
   ]
  },
  {
   "cell_type": "code",
   "execution_count": 31,
   "metadata": {},
   "outputs": [
    {
     "output_type": "stream",
     "name": "stdout",
     "text": [
      "De 2020 à 2026, les années :\n2020\n2024\nsont bisextile\n"
     ]
    }
   ],
   "source": [
    "def bisextile(jour):\n",
    "    second = jour * 86400\n",
    "    annee = tempsEnDate(secondeEnTemps(second))[0]\n",
    "    print(\"De 2020 à\", str(annee) + \", les années :\")\n",
    "\n",
    "    for i in range(2020, annee, 4):\n",
    "        if(annee%400 != 0):\n",
    "            print(i)\n",
    "    print(\"sont bisextile\")\n",
    "        \n",
    "bisextile(20000)"
   ]
  },
  {
   "cell_type": "markdown",
   "metadata": {},
   "source": [
    "Implémenter une fonction `nombreBisextile` qui calcule le nombre d'années bisextiles pour un nombre de jour donnés pour corriger votre fonction de calcul de la date."
   ]
  },
  {
   "cell_type": "code",
   "execution_count": null,
   "metadata": {},
   "outputs": [],
   "source": [
    "def nombreBisextile(jour):\n",
    "    pass\n",
    "def tempsEnDateBisextile(temps):\n",
    "    pass\n",
    "   \n",
    "temps = secondeEnTemps(1000000000)\n",
    "afficheTemps(temps)\n",
    "afficheDate(tempsEnDateBisextile(temps))"
   ]
  },
  {
   "cell_type": "markdown",
   "metadata": {},
   "source": [
    "Ajouter des valeurs par défaut dans le code de `afficheDate` afin de pouvoir ommettre\n",
    "l'argument de ces fonctions. Dans ce cas là, on affichera la date actuelle en utilisant la fonction `time`."
   ]
  },
  {
   "cell_type": "markdown",
   "metadata": {},
   "source": [
    "On va maintenant inspecter notre code pour améliorer sa qualité:\n",
    "\n",
    "* Regarder tous les warnings donnés par flake8 et essayer de les régler.\n",
    "* Utiliser le debugger (F5) pour étudier le fonctionnement de votre fonction nombreBisextile.\n",
    "* Mettre les annotations de type des arguments et du retour de la fonction pour nombreBisextile et une autre fonction de votre choix. Vérifier avec mypy que tout fonctionne bien."
   ]
  },
  {
   "cell_type": "markdown",
   "metadata": {},
   "source": [
    "Donner une fonction qui vérifie la charge horaire d'un employé, donnée sous forme d'une liste de temps travaillé chaque semaine dans un mois. Il ne faut pas dépasser 48h par semaine et 140h par mois (qu'on considère ici de 4 semaines).\n",
    "\n",
    "(Optionnel) S'adapter à une liste qui peut contenir plusieurs mois."
   ]
  },
  {
   "cell_type": "code",
   "execution_count": null,
   "metadata": {},
   "outputs": [],
   "source": [
    "def verifie(liste_temps):\n",
    "    pass\n",
    "\n",
    "\n",
    "liste_temps = [[1,2,39,34],[0,1,9,4],[0,29,39,51],[0,31,13,46]]\n",
    "verifie(liste_temps)"
   ]
  },
  {
   "cell_type": "code",
   "execution_count": null,
   "metadata": {},
   "outputs": [],
   "source": []
  }
 ],
 "metadata": {
  "kernelspec": {
   "display_name": "Python 3",
   "language": "python",
   "name": "python3"
  },
  "language_info": {
   "codemirror_mode": {
    "name": "ipython",
    "version": 3
   },
   "file_extension": ".py",
   "mimetype": "text/x-python",
   "name": "python",
   "nbconvert_exporter": "python",
   "pygments_lexer": "ipython3",
   "version": "3.8.3-final"
  }
 },
 "nbformat": 4,
 "nbformat_minor": 4
}